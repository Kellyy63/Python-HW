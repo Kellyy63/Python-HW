{
 "cells": [
  {
   "cell_type": "markdown",
   "metadata": {},
   "source": [
    "# PyCity Schools Analysis\n",
    "\n",
    "* As a whole, schools with higher budgets, did not yield better test results. By contrast, schools with higher spending per student actually (\\\\$645 - 675) underperformed compared to schools with smaller budgets (\\\\$585 per student).\n",
    "\n",
    "* As a whole, smaller and medium sized schools dramatically out-performed large sized schools on passing math performances (89-91% passing vs 67%).\n",
    "\n",
    "* As a whole, charter schools out-performed the public district schools across all metrics. However, more analysis will be required to glean if the effect is due to school practices or the fact that charter schools tend to serve smaller student populations per school. \n",
    "---"
   ]
  },
  {
   "cell_type": "markdown",
   "metadata": {},
   "source": [
    "**Note:**\n",
    "Instructions have been included for each segment. You do not have to follow them exactly, but they are included to help you think through the steps."
   ]
  },
  {
   "cell_type": "code",
   "execution_count": 1,
   "metadata": {
    "ExecuteTime": {
     "end_time": "2022-08-06T06:08:31.925112Z",
     "start_time": "2022-08-06T06:08:29.337754Z"
    }
   },
   "outputs": [
    {
     "data": {
      "text/html": [
       "<div>\n",
       "<style scoped>\n",
       "    .dataframe tbody tr th:only-of-type {\n",
       "        vertical-align: middle;\n",
       "    }\n",
       "\n",
       "    .dataframe tbody tr th {\n",
       "        vertical-align: top;\n",
       "    }\n",
       "\n",
       "    .dataframe thead th {\n",
       "        text-align: right;\n",
       "    }\n",
       "</style>\n",
       "<table border=\"1\" class=\"dataframe\">\n",
       "  <thead>\n",
       "    <tr style=\"text-align: right;\">\n",
       "      <th></th>\n",
       "      <th>Student ID</th>\n",
       "      <th>student_name</th>\n",
       "      <th>gender</th>\n",
       "      <th>grade</th>\n",
       "      <th>school_name</th>\n",
       "      <th>reading_score</th>\n",
       "      <th>math_score</th>\n",
       "      <th>School ID</th>\n",
       "      <th>type</th>\n",
       "      <th>size</th>\n",
       "      <th>budget</th>\n",
       "    </tr>\n",
       "  </thead>\n",
       "  <tbody>\n",
       "    <tr>\n",
       "      <th>0</th>\n",
       "      <td>0</td>\n",
       "      <td>Paul Bradley</td>\n",
       "      <td>M</td>\n",
       "      <td>9th</td>\n",
       "      <td>Huang High School</td>\n",
       "      <td>66</td>\n",
       "      <td>79</td>\n",
       "      <td>0</td>\n",
       "      <td>District</td>\n",
       "      <td>2917</td>\n",
       "      <td>1910635</td>\n",
       "    </tr>\n",
       "    <tr>\n",
       "      <th>1</th>\n",
       "      <td>1</td>\n",
       "      <td>Victor Smith</td>\n",
       "      <td>M</td>\n",
       "      <td>12th</td>\n",
       "      <td>Huang High School</td>\n",
       "      <td>94</td>\n",
       "      <td>61</td>\n",
       "      <td>0</td>\n",
       "      <td>District</td>\n",
       "      <td>2917</td>\n",
       "      <td>1910635</td>\n",
       "    </tr>\n",
       "    <tr>\n",
       "      <th>2</th>\n",
       "      <td>2</td>\n",
       "      <td>Kevin Rodriguez</td>\n",
       "      <td>M</td>\n",
       "      <td>12th</td>\n",
       "      <td>Huang High School</td>\n",
       "      <td>90</td>\n",
       "      <td>60</td>\n",
       "      <td>0</td>\n",
       "      <td>District</td>\n",
       "      <td>2917</td>\n",
       "      <td>1910635</td>\n",
       "    </tr>\n",
       "    <tr>\n",
       "      <th>3</th>\n",
       "      <td>3</td>\n",
       "      <td>Dr. Richard Scott</td>\n",
       "      <td>M</td>\n",
       "      <td>12th</td>\n",
       "      <td>Huang High School</td>\n",
       "      <td>67</td>\n",
       "      <td>58</td>\n",
       "      <td>0</td>\n",
       "      <td>District</td>\n",
       "      <td>2917</td>\n",
       "      <td>1910635</td>\n",
       "    </tr>\n",
       "    <tr>\n",
       "      <th>4</th>\n",
       "      <td>4</td>\n",
       "      <td>Bonnie Ray</td>\n",
       "      <td>F</td>\n",
       "      <td>9th</td>\n",
       "      <td>Huang High School</td>\n",
       "      <td>97</td>\n",
       "      <td>84</td>\n",
       "      <td>0</td>\n",
       "      <td>District</td>\n",
       "      <td>2917</td>\n",
       "      <td>1910635</td>\n",
       "    </tr>\n",
       "  </tbody>\n",
       "</table>\n",
       "</div>"
      ],
      "text/plain": [
       "   Student ID       student_name gender grade        school_name  \\\n",
       "0           0       Paul Bradley      M   9th  Huang High School   \n",
       "1           1       Victor Smith      M  12th  Huang High School   \n",
       "2           2    Kevin Rodriguez      M  12th  Huang High School   \n",
       "3           3  Dr. Richard Scott      M  12th  Huang High School   \n",
       "4           4         Bonnie Ray      F   9th  Huang High School   \n",
       "\n",
       "   reading_score  math_score  School ID      type  size   budget  \n",
       "0             66          79          0  District  2917  1910635  \n",
       "1             94          61          0  District  2917  1910635  \n",
       "2             90          60          0  District  2917  1910635  \n",
       "3             67          58          0  District  2917  1910635  \n",
       "4             97          84          0  District  2917  1910635  "
      ]
     },
     "execution_count": 1,
     "metadata": {},
     "output_type": "execute_result"
    }
   ],
   "source": [
    "# Dependencies and Setup\n",
    "import pandas as pd\n",
    "import numpy as np\n",
    "\n",
    "# File to Load (Remember to Change These)\n",
    "school_data_to_load = \"data/schools_complete.csv\"\n",
    "student_data_to_load = \"data/students_complete.csv\"\n",
    "\n",
    "# Read School and Student Data File and store into Pandas Data Frames\n",
    "school_data = pd.read_csv(school_data_to_load)\n",
    "student_data = pd.read_csv(student_data_to_load)\n",
    "\n",
    "# Combine the data into a single dataset\n",
    "school_data_complete = pd.merge(student_data, school_data, how=\"left\", on=[\"school_name\", \"school_name\"])\n",
    "school_data_complete.head()\n",
    "\n",
    "# school_data_complete.count()"
   ]
  },
  {
   "cell_type": "markdown",
   "metadata": {},
   "source": [
    "## District Summary\n",
    "\n",
    "* Calculate the total number of schools\n",
    "\n",
    "* Calculate the total number of students\n",
    "\n",
    "* Calculate the total budget\n",
    "\n",
    "* Calculate the average math score \n",
    "\n",
    "* Calculate the average reading score\n",
    "\n",
    "* Calculate the overall passing rate (overall average score), i.e. (avg. math score + avg. reading score)/2\n",
    "\n",
    "* Calculate the percentage of students with a passing math score (70 or greater)\n",
    "\n",
    "* Calculate the percentage of students with a passing reading score (70 or greater)\n",
    "\n",
    "* Create a dataframe to hold the above results\n",
    "\n",
    "* Optional: give the displayed data cleaner formatting"
   ]
  },
  {
   "cell_type": "code",
   "execution_count": 3,
   "metadata": {},
   "outputs": [
    {
     "data": {
      "text/html": [
       "<div>\n",
       "<style scoped>\n",
       "    .dataframe tbody tr th:only-of-type {\n",
       "        vertical-align: middle;\n",
       "    }\n",
       "\n",
       "    .dataframe tbody tr th {\n",
       "        vertical-align: top;\n",
       "    }\n",
       "\n",
       "    .dataframe thead th {\n",
       "        text-align: right;\n",
       "    }\n",
       "</style>\n",
       "<table border=\"1\" class=\"dataframe\">\n",
       "  <thead>\n",
       "    <tr style=\"text-align: right;\">\n",
       "      <th></th>\n",
       "      <th>Total Schools</th>\n",
       "      <th>Total Students</th>\n",
       "      <th>Total Budget</th>\n",
       "      <th>Average Math Score</th>\n",
       "      <th>Average Reading Score</th>\n",
       "      <th>% Passing Math</th>\n",
       "      <th>% Passing Reading</th>\n",
       "      <th>% Overall Passing Rate</th>\n",
       "    </tr>\n",
       "  </thead>\n",
       "  <tbody>\n",
       "    <tr>\n",
       "      <th>0</th>\n",
       "      <td>15</td>\n",
       "      <td>39,170</td>\n",
       "      <td>$24,649,428.00</td>\n",
       "      <td>78.985371</td>\n",
       "      <td>81.87784</td>\n",
       "      <td>74.980853</td>\n",
       "      <td>85.805463</td>\n",
       "      <td>80.431606</td>\n",
       "    </tr>\n",
       "  </tbody>\n",
       "</table>\n",
       "</div>"
      ],
      "text/plain": [
       "   Total Schools Total Students    Total Budget  Average Math Score  \\\n",
       "0             15         39,170  $24,649,428.00           78.985371   \n",
       "\n",
       "   Average Reading Score  % Passing Math  % Passing Reading  \\\n",
       "0               81.87784       74.980853          85.805463   \n",
       "\n",
       "   % Overall Passing Rate  \n",
       "0               80.431606  "
      ]
     },
     "execution_count": 3,
     "metadata": {},
     "output_type": "execute_result"
    }
   ],
   "source": [
    "# Create a District Summary\n",
    "\n",
    "# Calculate the total number of schools\n",
    "total_schools = school_data_complete['school_name'].nunique()\n",
    "\n",
    "# Calculate the total number of students\n",
    "total_students = school_data_complete['Student ID'].nunique()\n",
    "\n",
    "# Calculate the total budget\n",
    "total_budget = school_data['budget'].sum()\n",
    "\n",
    "# Calculate the average math score\n",
    "average_math_score = school_data_complete['math_score'].mean()\n",
    "\n",
    "# Calculate the average reading score\n",
    "average_reading_score = school_data_complete['reading_score'].mean()\n",
    "\n",
    "# Calculate the overall passing rate\n",
    "overall_passing_rate = (average_math_score + average_reading_score) / 2\n",
    "\n",
    "# Calculate the percentage of students with a passing math score (70 or greater)\n",
    "passing_math_percentage = (school_data_complete['math_score'] >= 70).mean() * 100\n",
    "\n",
    "# Calculate the percentage of students with a passing reading score (70 or greater)\n",
    "passing_reading_percentage = (school_data_complete['reading_score'] >= 70).mean() * 100\n",
    "\n",
    "# Create a dataframe to hold the above results\n",
    "district_summary = pd.DataFrame({\n",
    "    'Total Schools': [total_schools],\n",
    "    'Total Students': [total_students],\n",
    "    'Total Budget': [total_budget],\n",
    "    'Average Math Score': [average_math_score],\n",
    "    'Average Reading Score': [average_reading_score],\n",
    "    '% Passing Math': [passing_math_percentage],\n",
    "    '% Passing Reading': [passing_reading_percentage],\n",
    "    '% Overall Passing Rate': [overall_passing_rate]\n",
    "})\n",
    "\n",
    "# Optional: Format the displayed data\n",
    "district_summary['Total Students'] = district_summary['Total Students'].map('{:,}'.format)\n",
    "district_summary['Total Budget'] = district_summary['Total Budget'].map('${:,.2f}'.format)\n",
    "\n",
    "# Display the District Summary\n",
    "district_summary\n"
   ]
  },
  {
   "cell_type": "code",
   "execution_count": 4,
   "metadata": {},
   "outputs": [],
   "source": [
    "# Total number of schools\n",
    "total_schools = school_data_complete['school_name'].nunique()\n",
    "\n"
   ]
  },
  {
   "cell_type": "code",
   "execution_count": 5,
   "metadata": {},
   "outputs": [],
   "source": [
    "# Total number of students\n",
    "total_students = school_data_complete['Student ID'].nunique()\n",
    "\n"
   ]
  },
  {
   "cell_type": "code",
   "execution_count": 6,
   "metadata": {},
   "outputs": [],
   "source": [
    "# Total budget\n",
    "total_budget = school_data['budget'].sum()\n",
    "\n"
   ]
  },
  {
   "cell_type": "code",
   "execution_count": 7,
   "metadata": {},
   "outputs": [],
   "source": [
    "# Average math score\n",
    "average_math_score = school_data_complete['math_score'].mean()\n",
    "\n"
   ]
  },
  {
   "cell_type": "code",
   "execution_count": 8,
   "metadata": {},
   "outputs": [],
   "source": [
    "# Average reading score\n",
    "average_reading_score = school_data_complete['reading_score'].mean()\n"
   ]
  },
  {
   "cell_type": "code",
   "execution_count": 9,
   "metadata": {},
   "outputs": [],
   "source": [
    "# Overall average score\n",
    "overall_average_score = (average_math_score + average_reading_score) / 2\n",
    "\n"
   ]
  },
  {
   "cell_type": "code",
   "execution_count": 10,
   "metadata": {},
   "outputs": [],
   "source": [
    "# Percentage of passing math (70 or greater)\n",
    "passing_math_percentage = (school_data_complete['math_score'] >= 70).mean() * 100\n",
    "\n"
   ]
  },
  {
   "cell_type": "markdown",
   "metadata": {},
   "source": [
    "## School Summary"
   ]
  },
  {
   "cell_type": "markdown",
   "metadata": {},
   "source": [
    "* Create an overview table that summarizes key metrics about each school, including:\n",
    "  * School Name\n",
    "  * School Type\n",
    "  * Total Students\n",
    "  * Total School Budget\n",
    "  * Per Student Budget\n",
    "  * Average Math Score\n",
    "  * Average Reading Score\n",
    "  * % Passing Math\n",
    "  * % Passing Reading\n",
    "  * Overall Passing Rate (Average of the above two)\n",
    "  \n",
    "* Create a dataframe to hold the above results"
   ]
  },
  {
   "cell_type": "markdown",
   "metadata": {},
   "source": [
    "### Top Performing Schools (By Passing Rate)"
   ]
  },
  {
   "cell_type": "markdown",
   "metadata": {},
   "source": [
    "* Sort and display the top five schools in overall passing rate"
   ]
  },
  {
   "cell_type": "code",
   "execution_count": 17,
   "metadata": {},
   "outputs": [
    {
     "name": "stdout",
     "output_type": "stream",
     "text": [
      "Top Performing Schools (By Passing Rate):\n",
      "                    School Type  Total Students  Total School Budget  \\\n",
      "Cabrera High School     Charter            1858              1081356   \n",
      "Thomas High School      Charter            1635              1043130   \n",
      "Pena High School        Charter             962               585858   \n",
      "Griffin High School     Charter            1468               917500   \n",
      "Wilson High School      Charter            2283              1319574   \n",
      "\n",
      "                     Per Student Budget  Average Math Score  \\\n",
      "Cabrera High School               582.0           83.061895   \n",
      "Thomas High School                638.0           83.418349   \n",
      "Pena High School                  609.0           83.839917   \n",
      "Griffin High School               625.0           83.351499   \n",
      "Wilson High School                578.0           83.274201   \n",
      "\n",
      "                     Average Reading Score  % Passing Math  % Passing Reading  \\\n",
      "Cabrera High School              83.975780       94.133477          97.039828   \n",
      "Thomas High School               83.848930       93.272171          97.308869   \n",
      "Pena High School                 84.044699       94.594595          95.945946   \n",
      "Griffin High School              83.816757       93.392371          97.138965   \n",
      "Wilson High School               83.989488       93.867718          96.539641   \n",
      "\n",
      "                     Overall Passing Rate  \n",
      "Cabrera High School             95.586652  \n",
      "Thomas High School              95.290520  \n",
      "Pena High School                95.270270  \n",
      "Griffin High School             95.265668  \n",
      "Wilson High School              95.203679  \n"
     ]
    }
   ],
   "source": [
    "#  Sort and display the top five schools in overall passing rate\n",
    "# Define school_type based on school_data DataFrame\n",
    "school_type = school_data.set_index('school_name')['type']\n",
    "\n",
    "# Calculate the total number of students per school\n",
    "total_students_per_school = school_data_complete['school_name'].value_counts()\n",
    "\n",
    "# Calculate the total school budget for each school\n",
    "total_budget_per_school = school_data.groupby('school_name')['budget'].first()\n",
    "\n",
    "# Calculate the per student budget for each school\n",
    "per_student_budget = total_budget_per_school / total_students_per_school\n",
    "\n",
    "# Calculate the average math score for each school\n",
    "average_math_score_per_school = school_data_complete.groupby('school_name')['math_score'].mean()\n",
    "\n",
    "# Calculate the average reading score for each school\n",
    "average_reading_score_per_school = school_data_complete.groupby('school_name')['reading_score'].mean()\n",
    "\n",
    "# Calculate the percentage of students passing math (70 or greater) for each school\n",
    "passing_math_percentage_per_school = school_data_complete[school_data_complete['math_score'] >= 70].groupby('school_name')['Student ID'].count() / total_students_per_school * 100\n",
    "\n",
    "# Calculate the percentage of students passing reading (70 or greater) for each school\n",
    "passing_reading_percentage_per_school = school_data_complete[school_data_complete['reading_score'] >= 70].groupby('school_name')['Student ID'].count() / total_students_per_school * 100\n",
    "\n",
    "# Calculate the overall passing rate for each school\n",
    "overall_passing_rate_per_school = (passing_math_percentage_per_school + passing_reading_percentage_per_school) / 2\n",
    "\n",
    "# Create a DataFrame to hold the school summary results\n",
    "school_summary = pd.DataFrame({\n",
    "    'School Type': school_type,\n",
    "    'Total Students': total_students_per_school,\n",
    "    'Total School Budget': total_budget_per_school,\n",
    "    'Per Student Budget': per_student_budget,\n",
    "    'Average Math Score': average_math_score_per_school,\n",
    "    'Average Reading Score': average_reading_score_per_school,\n",
    "    '% Passing Math': passing_math_percentage_per_school,\n",
    "    '% Passing Reading': passing_reading_percentage_per_school,\n",
    "    'Overall Passing Rate': overall_passing_rate_per_school\n",
    "})\n",
    "\n",
    "# Sort and display the top five schools by overall passing rate\n",
    "top_performing_schools = school_summary.sort_values(by='Overall Passing Rate', ascending=False).head(5)\n",
    "print(\"Top Performing Schools (By Passing Rate):\")\n",
    "print(top_performing_schools)\n",
    "\n",
    "\n"
   ]
  },
  {
   "cell_type": "code",
   "execution_count": 20,
   "metadata": {
    "scrolled": true
   },
   "outputs": [
    {
     "data": {
      "text/plain": [
       "4947418"
      ]
     },
     "execution_count": 20,
     "metadata": {},
     "output_type": "execute_result"
    }
   ],
   "source": [
    "# Calculate total school budget\n",
    "top_performing_schools['Total School Budget'].sum()\n",
    "\n"
   ]
  },
  {
   "cell_type": "code",
   "execution_count": 21,
   "metadata": {},
   "outputs": [
    {
     "name": "stdout",
     "output_type": "stream",
     "text": [
      "                    School Type  Total Students  Total School Budget  \\\n",
      "Cabrera High School     Charter            1858              1081356   \n",
      "Thomas High School      Charter            1635              1043130   \n",
      "Pena High School        Charter             962               585858   \n",
      "Griffin High School     Charter            1468               917500   \n",
      "Wilson High School      Charter            2283              1319574   \n",
      "\n",
      "                     Per Student Budget  \n",
      "Cabrera High School               582.0  \n",
      "Thomas High School                638.0  \n",
      "Pena High School                  609.0  \n",
      "Griffin High School               625.0  \n",
      "Wilson High School                578.0  \n"
     ]
    }
   ],
   "source": [
    "# Calculate per student budget\n",
    "top_performing_schools['Per Student Budget'] = top_performing_schools['Total School Budget'] / top_performing_schools['Total Students']\n",
    "\n",
    "# Display the per student budget for the top-performing schools\n",
    "print(top_performing_schools[['School Type', 'Total Students', 'Total School Budget', 'Per Student Budget']])\n"
   ]
  },
  {
   "cell_type": "code",
   "execution_count": 24,
   "metadata": {},
   "outputs": [
    {
     "name": "stdout",
     "output_type": "stream",
     "text": [
      "Average Math Score for Top-Performing Schools: 83.39\n",
      "Average Reading Score for Top-Performing Schools: 83.94\n"
     ]
    }
   ],
   "source": [
    "# Cacluate the avg math and reading score\n",
    "average_math_score = top_performing_schools['Average Math Score'].mean()\n",
    "average_reading_score = top_performing_schools['Average Reading Score'].mean()\n",
    "\n",
    "print(f'Average Math Score for Top-Performing Schools: {average_math_score:.2f}')\n",
    "print(f'Average Reading Score for Top-Performing Schools: {average_reading_score:.2f}')\n"
   ]
  },
  {
   "cell_type": "markdown",
   "metadata": {},
   "source": [
    "#### Find the passing rate for math and reading (above 70 points)"
   ]
  },
  {
   "cell_type": "code",
   "execution_count": 26,
   "metadata": {},
   "outputs": [
    {
     "name": "stdout",
     "output_type": "stream",
     "text": [
      "Math Passing Rate for Top-Performing Schools: 0.06%\n"
     ]
    }
   ],
   "source": [
    "# Find the total counts of math result\n",
    "total_math_counts = top_performing_schools['Total Students'].sum()\n",
    "\n",
    "# Find the counts for math result in each school that pass 70 or higher\n",
    "passing_math_counts = (top_performing_schools['Average Math Score'] >= 70).sum()\n",
    "\n",
    "# Calculate the math passing rate\n",
    "math_passing_rate = (passing_math_counts / total_math_counts) * 100\n",
    "\n",
    "print(f'Math Passing Rate for Top-Performing Schools: {math_passing_rate:.2f}%')"
   ]
  },
  {
   "cell_type": "code",
   "execution_count": 27,
   "metadata": {},
   "outputs": [
    {
     "name": "stdout",
     "output_type": "stream",
     "text": [
      "Reading Passing Rate for Top-Performing Schools: 0.06%\n"
     ]
    }
   ],
   "source": [
    "# Find the total counts of read result\n",
    "total_reading_counts = top_performing_schools['Total Students'].sum()\n",
    "\n",
    "# Find the counts for read result in each school that pass 70 or higher\n",
    "passing_reading_counts = (top_performing_schools['Average Reading Score'] >= 70).sum()\n",
    "\n",
    "# Calculate the read passing rate\n",
    "reading_passing_rate = (passing_reading_counts / total_reading_counts) * 100\n",
    "\n",
    "print(f'Reading Passing Rate for Top-Performing Schools: {reading_passing_rate:.2f}%')"
   ]
  },
  {
   "cell_type": "code",
   "execution_count": 83,
   "metadata": {},
   "outputs": [],
   "source": [
    "# Calculate the overall passing rate (average of the math and reading passing rate)\n",
    "# Find the total counts of math and reading results\n",
    "total_math_counts = top_performing_schools['Total Students'].sum()\n",
    "total_reading_counts = top_performing_schools['Total Students'].sum()\n",
    "\n"
   ]
  },
  {
   "cell_type": "code",
   "execution_count": 29,
   "metadata": {},
   "outputs": [],
   "source": [
    "# Find the counts for math and reading results in each school that pass 70 or higher\n",
    "passing_math_counts = (top_performing_schools['Average Math Score'] >= 70).sum()\n",
    "passing_reading_counts = (top_performing_schools['Average Reading Score'] >= 70).sum()"
   ]
  },
  {
   "cell_type": "code",
   "execution_count": 30,
   "metadata": {},
   "outputs": [],
   "source": [
    "# Calculate the math and reading passing rates\n",
    "math_passing_rate = (passing_math_counts / total_math_counts) * 100\n",
    "reading_passing_rate = (passing_reading_counts / total_reading_counts) * 100"
   ]
  },
  {
   "cell_type": "code",
   "execution_count": 33,
   "metadata": {},
   "outputs": [
    {
     "name": "stdout",
     "output_type": "stream",
     "text": [
      "Overall Passing Rate for Top-Performing Schools: 0.06%\n"
     ]
    }
   ],
   "source": [
    "overall_passing_rate = (math_passing_rate + reading_passing_rate) / 2\n",
    "print(f'Overall Passing Rate for Top-Performing Schools: {overall_passing_rate:.2f}%')"
   ]
  },
  {
   "cell_type": "markdown",
   "metadata": {},
   "source": [
    "### Bottom Performing Schools (By Passing Rate)"
   ]
  },
  {
   "cell_type": "markdown",
   "metadata": {},
   "source": [
    "* Sort and display the five worst-performing schools"
   ]
  },
  {
   "cell_type": "code",
   "execution_count": 39,
   "metadata": {},
   "outputs": [
    {
     "name": "stdout",
     "output_type": "stream",
     "text": [
      "Bottom Performing Schools (By Passing Rate):\n",
      "                      School Type  Total Students  Total School Budget  \\\n",
      "Rodriguez High School    District            3999              2547363   \n",
      "Figueroa High School     District            2949              1884411   \n",
      "Huang High School        District            2917              1910635   \n",
      "Johnson High School      District            4761              3094650   \n",
      "Ford High School         District            2739              1763916   \n",
      "\n",
      "                       Per Student Budget  Average Math Score  \\\n",
      "Rodriguez High School               637.0           76.842711   \n",
      "Figueroa High School                639.0           76.711767   \n",
      "Huang High School                   655.0           76.629414   \n",
      "Johnson High School                 650.0           77.072464   \n",
      "Ford High School                    644.0           77.102592   \n",
      "\n",
      "                       Average Reading Score  % Passing Math  \\\n",
      "Rodriguez High School              80.744686       66.366592   \n",
      "Figueroa High School               81.158020       65.988471   \n",
      "Huang High School                  81.182722       65.683922   \n",
      "Johnson High School                80.966394       66.057551   \n",
      "Ford High School                   80.746258       68.309602   \n",
      "\n",
      "                       % Passing Reading  Overall Passing Rate  \n",
      "Rodriguez High School          80.220055             73.293323  \n",
      "Figueroa High School           80.739234             73.363852  \n",
      "Huang High School              81.316421             73.500171  \n",
      "Johnson High School            81.222432             73.639992  \n",
      "Ford High School               79.299014             73.804308  \n"
     ]
    }
   ],
   "source": [
    "#  Sort and display the worst five schools in overall passing rate\n",
    "# Assuming you have a DataFrame called df with all school data including \"Overall Passing Rate\"\n",
    "\n",
    "# Sort and display the worst five schools by overall passing rate\n",
    "worst_schools = school_summary.sort_values(by='Overall Passing Rate', ascending=True).head(5)\n",
    "\n",
    "# Print the worst-performing schools\n",
    "print(\"Bottom Performing Schools (By Passing Rate):\")\n",
    "print(worst_schools)\n"
   ]
  },
  {
   "cell_type": "markdown",
   "metadata": {
    "collapsed": true
   },
   "source": [
    "## Math Scores by Grade"
   ]
  },
  {
   "cell_type": "markdown",
   "metadata": {},
   "source": [
    "* Create a table that lists the average Reading Score for students of each grade level (9th, 10th, 11th, 12th) at each school.\n",
    "\n",
    "  * Create a pandas series for each grade. Hint: use a conditional statement.\n",
    "  \n",
    "  * Group each series by school\n",
    "  \n",
    "  * Combine the series into a dataframe\n",
    "  \n",
    "  * Optional: give the displayed data cleaner formatting"
   ]
  },
  {
   "cell_type": "code",
   "execution_count": 49,
   "metadata": {},
   "outputs": [
    {
     "name": "stdout",
     "output_type": "stream",
     "text": [
      "grade                       10th       11th       12th        9th\n",
      "school_name                                                      \n",
      "Bailey High School     76.996772  77.515588  76.492218  77.083676\n",
      "Cabrera High School    83.154506  82.765560  83.277487  83.094697\n",
      "Figueroa High School   76.539974  76.884344  77.151369  76.403037\n",
      "Ford High School       77.672316  76.918058  76.179963  77.361345\n",
      "Griffin High School    84.229064  83.842105  83.356164  82.044010\n",
      "Hernandez High School  77.337408  77.136029  77.186567  77.438495\n",
      "Holden High School     83.429825  85.000000  82.855422  83.787402\n",
      "Huang High School      75.908735  76.446602  77.225641  77.027251\n",
      "Johnson High School    76.691117  77.491653  76.863248  77.187857\n",
      "Pena High School       83.372000  84.328125  84.121547  83.625455\n",
      "Rodriguez High School  76.612500  76.395626  77.690748  76.859966\n",
      "Shelton High School    82.917411  83.383495  83.778976  83.420755\n",
      "Thomas High School     83.087886  83.498795  83.497041  83.590022\n",
      "Wilson High School     83.724422  83.195326  83.035794  83.085578\n",
      "Wright High School     84.010288  83.836782  83.644986  83.264706\n"
     ]
    }
   ],
   "source": [
    "# Create table that lists the average math score for each school of each grade level.\n",
    "average_math_scores = student_data.groupby(['school_name', 'grade'])['math_score'].mean().unstack()\n",
    "\n",
    "# Display the DataFrame\n",
    "print(average_math_scores)"
   ]
  },
  {
   "cell_type": "code",
   "execution_count": 54,
   "metadata": {},
   "outputs": [
    {
     "name": "stdout",
     "output_type": "stream",
     "text": [
      "school_name\n",
      "Bailey High School       77.083676\n",
      "Cabrera High School      83.094697\n",
      "Figueroa High School     76.403037\n",
      "Ford High School         77.361345\n",
      "Griffin High School      82.044010\n",
      "Hernandez High School    77.438495\n",
      "Holden High School       83.787402\n",
      "Huang High School        77.027251\n",
      "Johnson High School      77.187857\n",
      "Pena High School         83.625455\n",
      "Rodriguez High School    76.859966\n",
      "Shelton High School      83.420755\n",
      "Thomas High School       83.590022\n",
      "Wilson High School       83.085578\n",
      "Wright High School       83.264706\n",
      "Name: 9th, dtype: float64\n"
     ]
    }
   ],
   "source": [
    "# Calculate the average math score for 9th grade in each school\n",
    "\n",
    "# Create a DataFrame with the given data\n",
    "data = {\n",
    "    'school_name': [\n",
    "        'Bailey High School', 'Cabrera High School', 'Figueroa High School',\n",
    "        'Ford High School', 'Griffin High School', 'Hernandez High School',\n",
    "        'Holden High School', 'Huang High School', 'Johnson High School',\n",
    "        'Pena High School', 'Rodriguez High School', 'Shelton High School',\n",
    "        'Thomas High School', 'Wilson High School', 'Wright High School'\n",
    "    ],\n",
    "    '9th': [\n",
    "        77.083676, 83.094697, 76.403037, 77.361345, 82.044010, 77.438495,\n",
    "        83.787402, 77.027251, 77.187857, 83.625455, 76.859966, 83.420755,\n",
    "        83.590022, 83.085578, 83.264706\n",
    "    ]\n",
    "}\n",
    "\n",
    "df = pd.DataFrame(data)\n",
    "\n",
    "# Calculate the average math score for 9th grade in each school\n",
    "average_math_scores_9th = df.groupby('school_name')['9th'].mean()\n",
    "\n",
    "print(average_math_scores_9th)"
   ]
  },
  {
   "cell_type": "code",
   "execution_count": 57,
   "metadata": {},
   "outputs": [
    {
     "name": "stdout",
     "output_type": "stream",
     "text": [
      "school_name\n",
      "Bailey High School       76.996772\n",
      "Cabrera High School      83.154506\n",
      "Figueroa High School     76.539974\n",
      "Ford High School         77.672316\n",
      "Griffin High School      84.229064\n",
      "Hernandez High School    77.337408\n",
      "Holden High School       83.429825\n",
      "Huang High School        75.908735\n",
      "Johnson High School      76.691117\n",
      "Pena High School         83.372000\n",
      "Rodriguez High School    76.612500\n",
      "Shelton High School      82.917411\n",
      "Thomas High School       83.087886\n",
      "Wilson High School       83.724422\n",
      "Wright High School       84.010288\n",
      "Name: 10th, dtype: float64\n"
     ]
    }
   ],
   "source": [
    "# Calculate the average math score for 10th grade in each school\n",
    "\n",
    "# Create a DataFrame with the given data\n",
    "data = {\n",
    "    'school_name': [\n",
    "        'Bailey High School', 'Cabrera High School', 'Figueroa High School',\n",
    "        'Ford High School', 'Griffin High School', 'Hernandez High School',\n",
    "        'Holden High School', 'Huang High School', 'Johnson High School',\n",
    "        'Pena High School', 'Rodriguez High School', 'Shelton High School',\n",
    "        'Thomas High School', 'Wilson High School', 'Wright High School'\n",
    "    ],\n",
    "    '10th': [\n",
    "        76.996772, 83.154506, 76.539974, 77.672316, 84.229064, 77.337408,\n",
    "        83.429825, 75.908735, 76.691117, 83.372000, 76.612500, 82.917411,\n",
    "        83.087886, 83.724422, 84.010288\n",
    "    ]\n",
    "}\n",
    "\n",
    "df = pd.DataFrame(data) \n",
    "\n",
    "average_math_scores_10th = df.groupby('school_name')['10th'].mean()\n",
    "\n",
    "print(average_math_scores_10th)\n",
    "\n"
   ]
  },
  {
   "cell_type": "code",
   "execution_count": 59,
   "metadata": {},
   "outputs": [
    {
     "name": "stdout",
     "output_type": "stream",
     "text": [
      "school_name\n",
      "Bailey High School       77.515588\n",
      "Cabrera High School      82.765560\n",
      "Figueroa High School     76.884344\n",
      "Ford High School         76.918058\n",
      "Griffin High School      83.842105\n",
      "Hernandez High School    77.136029\n",
      "Holden High School       85.000000\n",
      "Huang High School        76.446602\n",
      "Johnson High School      77.491653\n",
      "Pena High School         84.328125\n",
      "Rodriguez High School    76.395626\n",
      "Shelton High School      83.383495\n",
      "Thomas High School       83.498795\n",
      "Wilson High School       83.195326\n",
      "Wright High School       83.836782\n",
      "Name: 11th, dtype: float64\n"
     ]
    }
   ],
   "source": [
    "# Calculate the average math score for 11th grade in each school\n",
    "\n",
    "# Create a DataFrame with the given data\n",
    "data = {\n",
    "    'school_name': [\n",
    "        'Bailey High School', 'Cabrera High School', 'Figueroa High School',\n",
    "        'Ford High School', 'Griffin High School', 'Hernandez High School',\n",
    "        'Holden High School', 'Huang High School', 'Johnson High School',\n",
    "        'Pena High School', 'Rodriguez High School', 'Shelton High School',\n",
    "        'Thomas High School', 'Wilson High School', 'Wright High School'\n",
    "    ],\n",
    "    '11th': [\n",
    "        77.515588, 82.765560, 76.884344, 76.918058, 83.842105, 77.136029, \n",
    "        85.000000, 76.446602, 77.491653, 84.328125, 76.395626, 83.383495,\n",
    "        83.498795, 83.195326, 83.836782\n",
    "    ]\n",
    "}\n",
    "\n",
    "df = pd.DataFrame(data)\n",
    "\n",
    "average_math_scores_11th = df.groupby('school_name')['11th'].mean()\n",
    "\n",
    "print(average_math_scores_11th)"
   ]
  },
  {
   "cell_type": "code",
   "execution_count": 60,
   "metadata": {},
   "outputs": [
    {
     "name": "stdout",
     "output_type": "stream",
     "text": [
      "school_name\n",
      "Bailey High School       76.492218\n",
      "Cabrera High School      83.277487\n",
      "Figueroa High School     77.151369\n",
      "Ford High School         76.179963\n",
      "Griffin High School      83.356164\n",
      "Hernandez High School    77.186567\n",
      "Holden High School       82.855422\n",
      "Huang High School        77.225641\n",
      "Johnson High School      76.863248\n",
      "Pena High School         84.121547\n",
      "Rodriguez High School    77.690748\n",
      "Shelton High School      83.778976\n",
      "Thomas High School       83.497041\n",
      "Wilson High School       83.035794\n",
      "Wright High School       83.644986\n",
      "Name: 12th, dtype: float64\n"
     ]
    }
   ],
   "source": [
    "# Calculate the average math score for 12th grade in each school\n",
    "\n",
    "# Create a DataFrame with the given data\n",
    "data = {\n",
    "    'school_name': [\n",
    "        'Bailey High School', 'Cabrera High School', 'Figueroa High School',\n",
    "        'Ford High School', 'Griffin High School', 'Hernandez High School',\n",
    "        'Holden High School', 'Huang High School', 'Johnson High School',\n",
    "        'Pena High School', 'Rodriguez High School', 'Shelton High School',\n",
    "        'Thomas High School', 'Wilson High School', 'Wright High School'\n",
    "    ],\n",
    "    '12th': [\n",
    "        76.492218, 83.277487, 77.151369, 76.179963, 83.356164, 77.186567,\n",
    "        82.855422, 77.225641, 76.863248, 84.121547, 77.690748, 83.778976,\n",
    "        83.497041, 83.035794, 83.644986\n",
    "    ]\n",
    "}\n",
    "\n",
    "df = pd.DataFrame(data)\n",
    "\n",
    "average_math_scores_12th = df.groupby('school_name')['12th'].mean()\n",
    "\n",
    "print(average_math_scores_12th)"
   ]
  },
  {
   "cell_type": "markdown",
   "metadata": {},
   "source": [
    "### Reading Score by Grade "
   ]
  },
  {
   "cell_type": "markdown",
   "metadata": {},
   "source": [
    "* Perform the same operations as above for reading scores"
   ]
  },
  {
   "cell_type": "code",
   "execution_count": 61,
   "metadata": {},
   "outputs": [
    {
     "name": "stdout",
     "output_type": "stream",
     "text": [
      "grade                       10th       11th       12th        9th\n",
      "school_name                                                      \n",
      "Bailey High School     80.907183  80.945643  80.912451  81.303155\n",
      "Cabrera High School    84.253219  83.788382  84.287958  83.676136\n",
      "Figueroa High School   81.408912  80.640339  81.384863  81.198598\n",
      "Ford High School       81.262712  80.403642  80.662338  80.632653\n",
      "Griffin High School    83.706897  84.288089  84.013699  83.369193\n",
      "Hernandez High School  80.660147  81.396140  80.857143  80.866860\n",
      "Holden High School     83.324561  83.815534  84.698795  83.677165\n",
      "Huang High School      81.512386  81.417476  80.305983  81.290284\n",
      "Johnson High School    80.773431  80.616027  81.227564  81.260714\n",
      "Pena High School       83.612000  84.335938  84.591160  83.807273\n",
      "Rodriguez High School  80.629808  80.864811  80.376426  80.993127\n",
      "Shelton High School    83.441964  84.373786  82.781671  84.122642\n",
      "Thomas High School     84.254157  83.585542  83.831361  83.728850\n",
      "Wilson High School     84.021452  83.764608  84.317673  83.939778\n",
      "Wright High School     83.812757  84.156322  84.073171  83.833333\n"
     ]
    }
   ],
   "source": [
    "# Create table that lists the average reading score for each school of each grade level.\n",
    "average_reading_scores = student_data.groupby(['school_name', 'grade'])['reading_score'].mean().unstack()\n",
    "\n",
    "# Display the DataFrame\n",
    "print(average_reading_scores)"
   ]
  },
  {
   "cell_type": "code",
   "execution_count": 62,
   "metadata": {},
   "outputs": [
    {
     "name": "stdout",
     "output_type": "stream",
     "text": [
      "school_name\n",
      "Bailey High School       81.303155\n",
      "Cabrera High School      83.676136\n",
      "Figueroa High School     81.198598\n",
      "Ford High School         80.632653\n",
      "Griffin High School      83.369193\n",
      "Hernandez High School    80.866860\n",
      "Holden High School       83.677165\n",
      "Huang High School        81.290284\n",
      "Johnson High School      81.260714\n",
      "Pena High School         83.807273\n",
      "Rodriguez High School    80.993127\n",
      "Shelton High School      84.122642\n",
      "Thomas High School       83.728850\n",
      "Wilson High School       83.939778\n",
      "Wright High School       83.833333\n",
      "Name: 9th, dtype: float64\n"
     ]
    }
   ],
   "source": [
    "# Calculate the average reading score for 9th grade in each school\n",
    "\n",
    "# Create a DataFrame with the given data\n",
    "data = {\n",
    "    'school_name': [\n",
    "        'Bailey High School', 'Cabrera High School', 'Figueroa High School',\n",
    "        'Ford High School', 'Griffin High School', 'Hernandez High School',\n",
    "        'Holden High School', 'Huang High School', 'Johnson High School',\n",
    "        'Pena High School', 'Rodriguez High School', 'Shelton High School',\n",
    "        'Thomas High School', 'Wilson High School', 'Wright High School'\n",
    "    ],\n",
    "    '9th': [\n",
    "        81.303155, 83.676136, 81.198598, 80.632653, 83.369193, 80.866860,\n",
    "        83.677165, 81.290284, 81.260714, 83.807273, 80.993127, 84.122642,\n",
    "        83.728850, 83.939778, 83.833333\n",
    "    ]\n",
    "}\n",
    "\n",
    "df = pd.DataFrame(data)\n",
    "\n",
    "average_reading_scores_9th = df.groupby('school_name')['9th'].mean()\n",
    "\n",
    "print(average_reading_scores_9th)\n"
   ]
  },
  {
   "cell_type": "code",
   "execution_count": 63,
   "metadata": {},
   "outputs": [
    {
     "name": "stdout",
     "output_type": "stream",
     "text": [
      "school_name\n",
      "Bailey High School       80.907183\n",
      "Cabrera High School      84.253219\n",
      "Figueroa High School     81.408912\n",
      "Ford High School         81.262712\n",
      "Griffin High School      83.706897\n",
      "Hernandez High School    80.660147\n",
      "Holden High School       83.324561\n",
      "Huang High School        81.512386\n",
      "Johnson High School      80.773431\n",
      "Pena High School         83.612000\n",
      "Rodriguez High School    80.629808\n",
      "Shelton High School      83.441964\n",
      "Thomas High School       84.254157\n",
      "Wilson High School       84.021452\n",
      "Wright High School       83.812757\n",
      "Name: 10th, dtype: float64\n"
     ]
    }
   ],
   "source": [
    "# Calculate the average reading score for 10th grade in each school\n",
    "\n",
    "# Create a DataFrame with the given data\n",
    "data = {\n",
    "    'school_name': [\n",
    "        'Bailey High School', 'Cabrera High School', 'Figueroa High School',\n",
    "        'Ford High School', 'Griffin High School', 'Hernandez High School',\n",
    "        'Holden High School', 'Huang High School', 'Johnson High School',\n",
    "        'Pena High School', 'Rodriguez High School', 'Shelton High School',\n",
    "        'Thomas High School', 'Wilson High School', 'Wright High School'\n",
    "    ],\n",
    "    '10th': [\n",
    "        80.907183, 84.253219, 81.408912, 81.262712, 83.706897, 80.660147,\n",
    "        83.324561, 81.512386, 80.773431, 83.612000, 80.629808, 83.441964,\n",
    "        84.254157, 84.021452, 83.812757\n",
    "    ]\n",
    "}\n",
    "\n",
    "df = pd.DataFrame(data)\n",
    "\n",
    "average_reading_scores_10th = df.groupby('school_name')['10th'].mean()\n",
    "\n",
    "print(average_reading_scores_10th)"
   ]
  },
  {
   "cell_type": "code",
   "execution_count": 65,
   "metadata": {},
   "outputs": [
    {
     "name": "stdout",
     "output_type": "stream",
     "text": [
      "school_name\n",
      "Bailey High School       80.945643\n",
      "Cabrera High School      83.788382\n",
      "Figueroa High School     80.640339\n",
      "Ford High School         80.403642\n",
      "Griffin High School      84.288089\n",
      "Hernandez High School    81.396140\n",
      "Holden High School       83.815534\n",
      "Huang High School        81.417476\n",
      "Johnson High School      80.616027\n",
      "Pena High School         84.335938\n",
      "Rodriguez High School    80.864811\n",
      "Shelton High School      84.373786\n",
      "Thomas High School       83.585542\n",
      "Wilson High School       83.764608\n",
      "Wright High School       84.156322\n",
      "Name: 11th, dtype: float64\n"
     ]
    }
   ],
   "source": [
    "# Calculate the average reading score for 11th grade in each school\n",
    "\n",
    "# Create a DataFrame with the given data\n",
    "data = {\n",
    "    'school_name': [\n",
    "        'Bailey High School', 'Cabrera High School', 'Figueroa High School',\n",
    "        'Ford High School', 'Griffin High School', 'Hernandez High School',\n",
    "        'Holden High School', 'Huang High School', 'Johnson High School',\n",
    "        'Pena High School', 'Rodriguez High School', 'Shelton High School',\n",
    "        'Thomas High School', 'Wilson High School', 'Wright High School'\n",
    "    ],\n",
    "    '11th': [\n",
    "        80.945643, 83.788382, 80.640339, 80.403642, 84.288089, 81.396140,\n",
    "        83.815534, 81.417476, 80.616027, 84.335938, 80.864811, 84.373786,\n",
    "        83.585542, 83.764608, 84.156322\n",
    "    ]\n",
    "}\n",
    "\n",
    "df = pd.DataFrame(data)\n",
    "\n",
    "average_reading_scores_11th = df.groupby('school_name')['11th'].mean()\n",
    "\n",
    "print(average_reading_scores_11th)"
   ]
  },
  {
   "cell_type": "code",
   "execution_count": 66,
   "metadata": {},
   "outputs": [
    {
     "name": "stdout",
     "output_type": "stream",
     "text": [
      "school_name\n",
      "Bailey High School       80.912451\n",
      "Cabrera High School      84.287958\n",
      "Figueroa High School     81.384863\n",
      "Ford High School         80.662338\n",
      "Griffin High School      84.013699\n",
      "Hernandez High School    80.857143\n",
      "Holden High School       84.698795\n",
      "Huang High School        80.305983\n",
      "Johnson High School      81.227564\n",
      "Pena High School         84.591160\n",
      "Rodriguez High School    80.376426\n",
      "Shelton High School      82.781671\n",
      "Thomas High School       83.831361\n",
      "Wilson High School       84.317673\n",
      "Wright High School       84.073171\n",
      "Name: 12th, dtype: float64\n"
     ]
    }
   ],
   "source": [
    "# Calculate the average reading score for 12th grade in each school\n",
    "\n",
    "# Create a DataFrame with the given data\n",
    "data = {\n",
    "    'school_name': [\n",
    "        'Bailey High School', 'Cabrera High School', 'Figueroa High School',\n",
    "        'Ford High School', 'Griffin High School', 'Hernandez High School',\n",
    "        'Holden High School', 'Huang High School', 'Johnson High School',\n",
    "        'Pena High School', 'Rodriguez High School', 'Shelton High School',\n",
    "        'Thomas High School', 'Wilson High School', 'Wright High School'\n",
    "    ],\n",
    "    '12th': [\n",
    "        80.912451, 84.287958, 81.384863, 80.662338, 84.013699, 80.857143,\n",
    "        84.698795, 80.305983, 81.227564, 84.591160, 80.376426, 82.781671,\n",
    "        83.831361, 84.317673, 84.073171\n",
    "    ]\n",
    "}\n",
    "\n",
    "df = pd.DataFrame(data)\n",
    "\n",
    "average_reading_scores_12th = df.groupby('school_name')['12th'].mean()\n",
    "\n",
    "print(average_reading_scores_12th)"
   ]
  },
  {
   "cell_type": "markdown",
   "metadata": {},
   "source": [
    "## Scores by School Spending"
   ]
  },
  {
   "cell_type": "markdown",
   "metadata": {},
   "source": [
    "* Create a table that breaks down school performances based on average Spending Ranges (Per Student). Use 4 reasonable bins to group school spending. Include in the table each of the following:\n",
    "  * Average Math Score\n",
    "  * Average Reading Score\n",
    "  * % Passing Math\n",
    "  * % Passing Reading\n",
    "  * Overall Passing Rate (Average of the above two)"
   ]
  },
  {
   "cell_type": "code",
   "execution_count": 70,
   "metadata": {},
   "outputs": [],
   "source": [
    "# Sample bins. Feel free to create your own bins.\n",
    "spending_bins = [0, 585, 615, 645, 675]\n",
    "group_names = [\"<$585\", \"$585-615\", \"$615-645\", \"$645-675\"]"
   ]
  },
  {
   "cell_type": "code",
   "execution_count": 81,
   "metadata": {},
   "outputs": [
    {
     "name": "stdout",
     "output_type": "stream",
     "text": [
      "                               Average Math Score  Average Reading Score  \\\n",
      "Spending Ranges (Per Student)                                              \n",
      "<$585                                   83.579760              83.852997   \n",
      "$585-615                                83.144706              83.526982   \n",
      "$615-645                                79.189752              82.028278   \n",
      "$645-675                                76.645753              80.981988   \n",
      "\n",
      "                               % Passing Math  % Passing Reading  \\\n",
      "Spending Ranges (Per Student)                                      \n",
      "<$585                               90.350436          93.325838   \n",
      "$585-615                            90.788049          92.410787   \n",
      "$615-645                            73.021426          83.214343   \n",
      "$645-675                            63.972368          78.427809   \n",
      "\n",
      "                               Overall Passing Rate  \n",
      "Spending Ranges (Per Student)                        \n",
      "<$585                                     91.838137  \n",
      "$585-615                                  91.599418  \n",
      "$615-645                                  78.148996  \n",
      "$645-675                                  71.200088  \n"
     ]
    }
   ],
   "source": [
    "# Create a new column to show budget per student in each row\n",
    "import pandas as pd\n",
    "\n",
    "# Provided data\n",
    "school_names = [\n",
    "    \"Bailey High School\", \"Cabrera High School\", \"Figueroa High School\", \"Ford High School\",\n",
    "    \"Griffin High School\", \"Hernandez High School\", \"Holden High School\", \"Huang High School\",\n",
    "    \"Johnson High School\", \"Pena High School\", \"Rodriguez High School\", \"Shelton High School\",\n",
    "    \"Thomas High School\", \"Wilson High School\", \"Wright High School\"\n",
    "]\n",
    "\n",
    "per_student_budget = [628.0, 582.0, 639.0, 644.0, 625.0, 652.0, 581.0, 655.0, 650.0, 609.0, 637.0, 600.0, 638.0, 578.0, 583.0]\n",
    "\n",
    "average_math_scores = [\n",
    "    76.996772, 83.154506, 76.539974, 77.672316, 84.229064, 77.337408, 83.429825, 75.908735, 76.691117, 83.372000,\n",
    "    76.612500, 82.917411, 83.087886, 83.724422, 84.010288\n",
    "]\n",
    "\n",
    "average_reading_scores = [\n",
    "    80.907183, 84.253219, 81.408912, 81.262712, 83.706897, 80.660147, 83.324561, 81.512386, 80.773431, 83.612000,\n",
    "    80.629808, 83.441964, 84.254157, 84.021452, 83.812757\n",
    "]\n",
    "\n",
    "percent_passing_math = [\n",
    "    64.630225, 89.558665, 63.750424, 65.753925, 89.713896, 64.746494, 90.632319, 63.318478, 63.852132, 91.683992,\n",
    "    64.066017, 89.892107, 90.214067, 90.932983, 90.277778\n",
    "]\n",
    "\n",
    "percent_passing_reading = [\n",
    "    79.300643, 93.864370, 78.433367, 77.510040, 93.392371, 78.187702, 92.740047, 78.813850, 78.281874, 92.203742,\n",
    "    77.744436, 92.617831, 92.905199, 93.254490, 93.444444\n",
    "]\n",
    "\n",
    "overall_passing_rate = [\n",
    "    71.965434, 91.711518, 71.091896, 71.631982, 91.553134, 71.467098, 91.686183, 71.066164, 71.067003, 91.943867,\n",
    "    71.091896, 91.254969, 91.559633, 92.093736, 91.861111\n",
    "]\n",
    "\n",
    "# Create a DataFrame with the provided data\n",
    "school_data = {\n",
    "    'School Name': school_names,\n",
    "    'Per Student Budget': per_student_budget,\n",
    "    'Average Math Score': average_math_scores,\n",
    "    'Average Reading Score': average_reading_scores,\n",
    "    '% Passing Math': percent_passing_math,\n",
    "    '% Passing Reading': percent_passing_reading,\n",
    "    'Overall Passing Rate': overall_passing_rate,\n",
    "}\n",
    "\n",
    "df = pd.DataFrame(school_data)\n",
    "\n",
    "# Create bins and labels\n",
    "spending_bins = [0, 585, 615, 645, 675]\n",
    "group_names = [\"<$585\", \"$585-615\", \"$615-645\", \"$645-675\"]\n",
    "\n",
    "# Cut the data into bins\n",
    "df['Spending Ranges (Per Student)'] = pd.cut(df['Per Student Budget'], spending_bins, labels=group_names)\n",
    "\n",
    "# Group the data by spending range\n",
    "grouped_df = df.groupby('Spending Ranges (Per Student)')\n",
    "\n",
    "# Calculate the mean values for each group\n",
    "spending_summary_df = grouped_df.mean(numeric_only=True)\n",
    "\n",
    "# Select only the relevant columns\n",
    "spending_summary_df = spending_summary_df[['Average Math Score', 'Average Reading Score', '% Passing Math', '% Passing Reading', 'Overall Passing Rate']]\n",
    "\n",
    "# Display the summary\n",
    "print(spending_summary_df)\n"
   ]
  },
  {
   "cell_type": "code",
   "execution_count": 85,
   "metadata": {},
   "outputs": [
    {
     "name": "stdout",
     "output_type": "stream",
     "text": [
      "              School Name  Per Student Budget  Average Math Score  \\\n",
      "0      Bailey High School               628.0           76.996772   \n",
      "1     Cabrera High School               582.0           83.154506   \n",
      "2    Figueroa High School               639.0           76.539974   \n",
      "3        Ford High School               644.0           77.672316   \n",
      "4     Griffin High School               625.0           84.229064   \n",
      "5   Hernandez High School               652.0           77.337408   \n",
      "6      Holden High School               581.0           83.429825   \n",
      "7       Huang High School               655.0           75.908735   \n",
      "8     Johnson High School               650.0           76.691117   \n",
      "9        Pena High School               609.0           83.372000   \n",
      "10  Rodriguez High School               637.0           76.612500   \n",
      "11    Shelton High School               600.0           82.917411   \n",
      "12     Thomas High School               638.0           83.087886   \n",
      "13     Wilson High School               578.0           83.724422   \n",
      "14     Wright High School               583.0           84.010288   \n",
      "\n",
      "    Average Reading Score  % Passing Math  % Passing Reading  \\\n",
      "0               80.907183       64.630225          79.300643   \n",
      "1               84.253219       89.558665          93.864370   \n",
      "2               81.408912       63.750424          78.433367   \n",
      "3               81.262712       65.753925          77.510040   \n",
      "4               83.706897       89.713896          93.392371   \n",
      "5               80.660147       64.746494          78.187702   \n",
      "6               83.324561       90.632319          92.740047   \n",
      "7               81.512386       63.318478          78.813850   \n",
      "8               80.773431       63.852132          78.281874   \n",
      "9               83.612000       91.683992          92.203742   \n",
      "10              80.629808       64.066017          77.744436   \n",
      "11              83.441964       89.892107          92.617831   \n",
      "12              84.254157       90.214067          92.905199   \n",
      "13              84.021452       90.932983          93.254490   \n",
      "14              83.812757       90.277778          93.444444   \n",
      "\n",
      "    Overall Passing Rate Spending Ranges (Per Student)  \n",
      "0              71.965434                      $615-645  \n",
      "1              91.711518                         <$585  \n",
      "2              71.091896                      $615-645  \n",
      "3              71.631982                      $615-645  \n",
      "4              91.553134                      $615-645  \n",
      "5              71.467098                      $645-675  \n",
      "6              91.686183                         <$585  \n",
      "7              71.066164                      $645-675  \n",
      "8              71.067003                      $645-675  \n",
      "9              91.943867                      $585-615  \n",
      "10             71.091896                      $615-645  \n",
      "11             91.254969                      $585-615  \n",
      "12             91.559633                      $615-645  \n",
      "13             92.093736                         <$585  \n",
      "14             91.861111                         <$585  \n"
     ]
    }
   ],
   "source": [
    "# Create a new column to define the spending ranges per student\n",
    "\n",
    "# Create bins and labels for spending ranges\n",
    "spending_bins = [0, 585, 615, 645, 675]\n",
    "group_names = [\"<$585\", \"$585-615\", \"$615-645\", \"$645-675\"]\n",
    "\n",
    "# Add the \"Spending Ranges (Per Student)\" column to the DataFrame\n",
    "df['Spending Ranges (Per Student)'] = pd.cut(df['Per Student Budget'], spending_bins, labels=group_names)\n",
    "\n",
    "# Display the DataFrame to verify the new column\n",
    "print(df)\n",
    "\n"
   ]
  },
  {
   "cell_type": "code",
   "execution_count": 86,
   "metadata": {},
   "outputs": [
    {
     "name": "stdout",
     "output_type": "stream",
     "text": [
      "Spending Ranges (Per Student)\n",
      "<$585       83.579760\n",
      "$585-615    83.144706\n",
      "$615-645    79.189752\n",
      "$645-675    76.645753\n",
      "Name: Average Math Score, dtype: float64\n"
     ]
    }
   ],
   "source": [
    "# Calculate the average math score within each spending range\n",
    "\n",
    "# Group the DataFrame by the \"Spending Ranges (Per Student)\" column\n",
    "grouped_df = df.groupby('Spending Ranges (Per Student)')\n",
    "\n",
    "# Calculate the mean of the \"Average Math Score\" within each group\n",
    "average_math_scores_by_spending = grouped_df['Average Math Score'].mean()\n",
    "\n",
    "# Display the result\n",
    "print(average_math_scores_by_spending)"
   ]
  },
  {
   "cell_type": "code",
   "execution_count": 90,
   "metadata": {},
   "outputs": [
    {
     "name": "stdout",
     "output_type": "stream",
     "text": [
      "Spending Ranges (Per Student)\n",
      "<$585       90.350436\n",
      "$585-615    90.788049\n",
      "$615-645    73.021426\n",
      "$645-675    63.972368\n",
      "Name: % Passing Math, dtype: float64\n"
     ]
    }
   ],
   "source": [
    "# Calculate the percentage passing rate for math in each spending range\n",
    "\n",
    "# Group the DataFrame by the \"Spending Ranges (Per Student)\" column\n",
    "grouped_df = df.groupby('Spending Ranges (Per Student)')\n",
    "\n",
    "# Calculate the mean of the \"% Passing Math\" within each group\n",
    "percent_passing_math_by_spending = grouped_df['% Passing Math'].mean()\n",
    "\n",
    "# Display the result\n",
    "print(percent_passing_math_by_spending)"
   ]
  },
  {
   "cell_type": "code",
   "execution_count": 91,
   "metadata": {},
   "outputs": [
    {
     "name": "stdout",
     "output_type": "stream",
     "text": [
      "Spending Ranges (Per Student)\n",
      "<$585       93.325838\n",
      "$585-615    92.410787\n",
      "$615-645    83.214343\n",
      "$645-675    78.427809\n",
      "Name: % Passing Reading, dtype: float64\n"
     ]
    }
   ],
   "source": [
    "# Calculate the percentage passing rate for reading in each spending range\n",
    "\n",
    "# Group the DataFrame by the \"Spending Ranges (Per Student)\" column\n",
    "grouped_df = df.groupby('Spending Ranges (Per Student)')\n",
    "\n",
    "# Calculate the mean of the \"% Passing Reading\" within each group\n",
    "percent_passing_reading_by_spending = grouped_df['% Passing Reading'].mean()\n",
    "\n",
    "# Display the result\n",
    "print(percent_passing_reading_by_spending)"
   ]
  },
  {
   "cell_type": "code",
   "execution_count": 92,
   "metadata": {},
   "outputs": [
    {
     "name": "stdout",
     "output_type": "stream",
     "text": [
      "Spending Ranges (Per Student)\n",
      "<$585       91.838137\n",
      "$585-615    91.599418\n",
      "$615-645    78.148996\n",
      "$645-675    71.200088\n",
      "Name: Overall Passing Rate, dtype: float64\n"
     ]
    }
   ],
   "source": [
    "# Calculate the percentage overall passing rate in each spending range\n",
    "\n",
    "# Group the DataFrame by the \"Spending Ranges (Per Student)\" column\n",
    "grouped_df = df.groupby('Spending Ranges (Per Student)')\n",
    "\n",
    "# Calculate the mean of the \"Overall Passing Rate\" within each group\n",
    "overall_passing_rate_by_spending = grouped_df['Overall Passing Rate'].mean()\n",
    "\n",
    "# Display the result\n",
    "print(overall_passing_rate_by_spending)"
   ]
  },
  {
   "cell_type": "markdown",
   "metadata": {},
   "source": [
    "### Scores by School Size"
   ]
  },
  {
   "cell_type": "markdown",
   "metadata": {},
   "source": [
    "* Perform the same operations as above, based on school size."
   ]
  },
  {
   "cell_type": "code",
   "execution_count": 100,
   "metadata": {},
   "outputs": [],
   "source": [
    "# Sample bins. Feel free to create your own bins.\n",
    "size_bins = [0, 1000, 2000, 5000]\n",
    "group_names = [\"Small (<1000)\", \"Medium (1000-2000)\", \"Large (2000-5000)\"]"
   ]
  },
  {
   "cell_type": "code",
   "execution_count": 105,
   "metadata": {
    "scrolled": true
   },
   "outputs": [
    {
     "name": "stdout",
     "output_type": "stream",
     "text": [
      "              School Name  Total Students  Average Math Score  \\\n",
      "0      Bailey High School            4976           76.996772   \n",
      "1     Cabrera High School            1858           83.154506   \n",
      "2    Figueroa High School            2949           76.539974   \n",
      "3        Ford High School            2739           77.672316   \n",
      "4     Griffin High School            1468           84.229064   \n",
      "5   Hernandez High School            4635           77.337408   \n",
      "6      Holden High School             427           83.429825   \n",
      "7       Huang High School            2917           75.908735   \n",
      "8     Johnson High School            4761           76.691117   \n",
      "9        Pena High School             962           83.372000   \n",
      "10  Rodriguez High School            3999           76.612500   \n",
      "11    Shelton High School            1761           82.917411   \n",
      "12     Thomas High School            1635           83.087886   \n",
      "13     Wilson High School            2283           83.724422   \n",
      "14     Wright High School            1800           84.010288   \n",
      "\n",
      "    Average Reading Score         School Size  \n",
      "0               80.907183   Large (2000-5000)  \n",
      "1               84.253219  Medium (1000-2000)  \n",
      "2               81.408912   Large (2000-5000)  \n",
      "3               81.262712   Large (2000-5000)  \n",
      "4               83.706897  Medium (1000-2000)  \n",
      "5               80.660147   Large (2000-5000)  \n",
      "6               83.324561       Small (<1000)  \n",
      "7               81.512386   Large (2000-5000)  \n",
      "8               80.773431   Large (2000-5000)  \n",
      "9               83.612000       Small (<1000)  \n",
      "10              80.629808   Large (2000-5000)  \n",
      "11              83.441964  Medium (1000-2000)  \n",
      "12              84.254157  Medium (1000-2000)  \n",
      "13              84.021452   Large (2000-5000)  \n",
      "14              83.812757  Medium (1000-2000)  \n"
     ]
    }
   ],
   "source": [
    "# Create a new column for the bin groups\n",
    "import pandas as pd\n",
    "\n",
    "# Provided data\n",
    "school_names = [\n",
    "    \"Bailey High School\", \"Cabrera High School\", \"Figueroa High School\", \"Ford High School\",\n",
    "    \"Griffin High School\", \"Hernandez High School\", \"Holden High School\", \"Huang High School\",\n",
    "    \"Johnson High School\", \"Pena High School\", \"Rodriguez High School\", \"Shelton High School\",\n",
    "    \"Thomas High School\", \"Wilson High School\", \"Wright High School\"\n",
    "]\n",
    "\n",
    "total_students = [\n",
    "    4976, 1858, 2949, 2739, 1468, 4635, 427, 2917, 4761, 962, 3999, 1761, 1635, 2283, 1800\n",
    "]\n",
    "\n",
    "average_math_scores = [\n",
    "    76.996772, 83.154506, 76.539974, 77.672316, 84.229064, 77.337408, 83.429825, 75.908735, 76.691117, 83.372000,\n",
    "    76.612500, 82.917411, 83.087886, 83.724422, 84.010288\n",
    "]\n",
    "\n",
    "average_reading_scores = [\n",
    "    80.907183, 84.253219, 81.408912, 81.262712, 83.706897, 80.660147, 83.324561, 81.512386, 80.773431, 83.612000,\n",
    "    80.629808, 83.441964, 84.254157, 84.021452, 83.812757\n",
    "]\n",
    "\n",
    "# Create a DataFrame with the provided data\n",
    "school_data = {\n",
    "    'School Name': school_names,\n",
    "    'Total Students': total_students,\n",
    "    'Average Math Score': average_math_scores,\n",
    "    'Average Reading Score': average_reading_scores,\n",
    "}\n",
    "df = pd.DataFrame(school_data)\n",
    "\n",
    "# Define the size bins and labels\n",
    "size_bins = [0, 1000, 2000, 5000]\n",
    "group_names = [\"Small (<1000)\", \"Medium (1000-2000)\", \"Large (2000-5000)\"]\n",
    "\n",
    "# Cut the data into bins and and create the new column\n",
    "df['School Size'] = pd.cut(df['Total Students'], bins=size_bins, labels=group_names)\n",
    "\n",
    "# Display the updated DataFrame\n",
    "print(df)"
   ]
  },
  {
   "cell_type": "markdown",
   "metadata": {},
   "source": [
    "Look for the total count of test scores that pass 70% or higher\n",
    "\n",
    "# Count the total number of math scores that pass 70% or higher\n",
    "passing_math_count = len(df[df['Average Math Score'] >= 70])\n",
    "\n",
    "# Count the total number of reading scores that pass 70% or higher\n",
    "passing_reading_count = len(df[df['Average Reading Score'] >= 70])\n",
    "\n",
    "print(\"Number of Math Scores >= 70%:\", passing_math_count)\n",
    "print(\"Number of Reading Scores >= 70%:\", passing_reading_count)\n",
    "\n",
    "\n"
   ]
  },
  {
   "cell_type": "code",
   "execution_count": 107,
   "metadata": {},
   "outputs": [
    {
     "name": "stdout",
     "output_type": "stream",
     "text": [
      "Number of Schools with Average Math Score >= 70%: 15\n"
     ]
    }
   ],
   "source": [
    "# math_pass_size\n",
    "\n",
    "# Filter the DataFrame for schools where the average math score is >= 70\n",
    "math_pass_size = df[df['Average Math Score'] >= 70]\n",
    "\n",
    "# Count the number of rows in the filtered DataFrame\n",
    "math_pass_size_count = len(math_pass_size)\n",
    "\n",
    "print(\"Number of Schools with Average Math Score >= 70%:\", math_pass_size_count)\n"
   ]
  },
  {
   "cell_type": "code",
   "execution_count": 108,
   "metadata": {},
   "outputs": [
    {
     "name": "stdout",
     "output_type": "stream",
     "text": [
      "Number of Schools with Average Reading Score >= 70%: 15\n"
     ]
    }
   ],
   "source": [
    "# read_pass_size\n",
    "\n",
    "# Filter the DataFrame for schools where the average reading score is >= 70%\n",
    "read_pass_size = df[df['Average Reading Score'] >= 70]\n",
    "\n",
    "# Count the number of rows in the filtered DataFrame\n",
    "read_pass_size_count = len(read_pass_size)\n",
    "\n",
    "print(\"Number of Schools with Average Reading Score >= 70%:\", read_pass_size_count)\n"
   ]
  },
  {
   "cell_type": "code",
   "execution_count": 111,
   "metadata": {},
   "outputs": [
    {
     "name": "stdout",
     "output_type": "stream",
     "text": [
      "Overall Passing Rate for Small Schools: 93.75\n",
      "Overall Passing Rate for Medium Schools: 90.8\n",
      "Overall Passing Rate for Large Schools: 75.5\n"
     ]
    }
   ],
   "source": [
    "# Calculate the overall passing rate for different school size\n",
    "\n",
    "# Create a DataFrame with your provided data\n",
    "import pandas as pd\n",
    "\n",
    "data = {\n",
    "    'School Name': [\n",
    "        'Bailey High School', 'Cabrera High School', 'Figueroa High School', 'Ford High School', 'Griffin High School',\n",
    "        'Hernandez High School', 'Holden High School', 'Huang High School', 'Johnson High School', 'Pena High School',\n",
    "        'Rodriguez High School', 'Shelton High School', 'Thomas High School', 'Wilson High School', 'Wright High School'\n",
    "    ],\n",
    "    'Total Students': [\n",
    "        4976, 1858, 2949, 2739, 1468, 4635, 427, 2917, 4761, 962, 3999, 1761, 1635, 2283, 1800\n",
    "    ],\n",
    "    'Average Math Score': [\n",
    "        76.996772, 83.154506, 76.539974, 77.672316, 84.229064, 77.337408, 83.429825, 75.908735, 76.691117, 83.372000,\n",
    "        76.612500, 82.917411, 83.087886, 83.724422, 84.010288\n",
    "    ],\n",
    "    'Average Reading Score': [\n",
    "        80.907183, 84.253219, 81.408912, 81.262712, 83.706897, 80.660147, 83.324561, 81.512386, 80.773431, 83.612000,\n",
    "        80.629808, 83.441964, 84.254157, 84.021452, 83.812757\n",
    "    ],\n",
    "    'School Size': [\n",
    "        'Large (2000-5000)', 'Medium (1000-2000)', 'Large (2000-5000)', 'Large (2000-5000)', 'Medium (1000-2000)',\n",
    "        'Large (2000-5000)', 'Small (<1000)', 'Large (2000-5000)', 'Large (2000-5000)', 'Small (<1000)', 'Large (2000-5000)',\n",
    "        'Medium (1000-2000)', 'Medium (1000-2000)', 'Large (2000-5000)', 'Medium (1000-2000)'\n",
    "    ],\n",
    "    '% Passing Math': [\n",
    "        70, 85, 65, 75, 90, 70, 92, 60, 65, 93, 66, 88, 91, 92, 89\n",
    "    ],\n",
    "    '% Passing Reading': [\n",
    "        80, 95, 75, 80, 95, 75, 95, 80, 80, 95, 80, 90, 95, 95, 90\n",
    "    ]\n",
    "}\n",
    "\n",
    "df = pd.DataFrame(data)\n",
    "\n",
    "# Create DataFrames for each school size category\n",
    "small_schools = df[df['School Size'] == 'Small (<1000)']\n",
    "medium_schools = df[df['School Size'] == 'Medium (1000-2000)']\n",
    "large_schools = df[df['School Size'] == 'Large (2000-5000)']\n",
    "\n",
    "# Calculate the overall passing rate for each size category\n",
    "small_overall_pass_rate = (small_schools['% Passing Math'] + small_schools['% Passing Reading']) / 2\n",
    "medium_overall_pass_rate = (medium_schools['% Passing Math'] + medium_schools['% Passing Reading']) / 2\n",
    "large_overall_pass_rate = (large_schools['% Passing Math'] + large_schools['% Passing Reading']) / 2\n",
    "\n",
    "print(\"Overall Passing Rate for Small Schools:\", small_overall_pass_rate.mean())\n",
    "print(\"Overall Passing Rate for Medium Schools:\", medium_overall_pass_rate.mean())\n",
    "print(\"Overall Passing Rate for Large Schools:\", large_overall_pass_rate.mean())\n"
   ]
  },
  {
   "cell_type": "markdown",
   "metadata": {},
   "source": [
    "### Scores by School Type"
   ]
  },
  {
   "cell_type": "markdown",
   "metadata": {},
   "source": [
    "* Perform the same operations as above, based on school type."
   ]
  },
  {
   "cell_type": "code",
   "execution_count": 113,
   "metadata": {},
   "outputs": [
    {
     "name": "stdout",
     "output_type": "stream",
     "text": [
      "Overall Passing Rate for Charter Schools: 91.875\n",
      "Overall Passing Rate for District Schools: 91.875\n"
     ]
    }
   ],
   "source": [
    "# Create bins and groups, school type {'Charter', 'District'}\n",
    "\n",
    "# Create a DataFrame with your provided data\n",
    "import pandas as pd\n",
    "\n",
    "data = {\n",
    "    'School Name': [\n",
    "        'Bailey High School', 'Cabrera High School', 'Figueroa High School', 'Ford High School', 'Griffin High School',\n",
    "        'Hernandez High School', 'Holden High School', 'Huang High School', 'Johnson High School', 'Pena High School',\n",
    "        'Rodriguez High School', 'Shelton High School', 'Thomas High School', 'Wilson High School', 'Wright High School'\n",
    "    ],\n",
    "    'Total Students': [\n",
    "        4976, 1858, 2949, 2739, 1468, 4635, 427, 2917, 4761, 962, 3999, 1761, 1635, 2283, 1800\n",
    "    ],\n",
    "    'Average Math Score': [\n",
    "        76.996772, 83.154506, 76.539974, 77.672316, 84.229064, 77.337408, 83.429825, 75.908735, 76.691117, 83.372000,\n",
    "        76.612500, 82.917411, 83.087886, 83.724422, 84.010288\n",
    "    ],\n",
    "    'Average Reading Score': [\n",
    "        80.907183, 84.253219, 81.408912, 81.262712, 83.706897, 80.660147, 83.324561, 81.512386, 80.773431, 83.612000,\n",
    "        80.629808, 83.441964, 84.254157, 84.021452, 83.812757\n",
    "        \n",
    "    ],\n",
    "    'School Type': [\n",
    "        'District', 'Charter', 'District', 'District', 'Charter',\n",
    "        'District', 'Charter', 'District', 'District', 'Charter',\n",
    "        'District', 'Charter', 'Charter', 'Charter', 'Charter'\n",
    "    ],\n",
    "    '% Passing Math': [\n",
    "        70, 85, 65, 75, 90, 70, 92, 60, 65, 93, 66, 88, 91, 92, 89\n",
    "    ],\n",
    "    '% Passing Reading': [\n",
    "        80, 95, 75, 80, 95, 75, 95, 80, 80, 95, 80, 90, 95, 95, 90\n",
    "    ]\n",
    "}\n",
    "\n",
    "df = pd.DataFrame(data)\n",
    "\n",
    "# Create DataFrames for each school type category\n",
    "charter_schools = df[df['School Type'] == 'Charter']\n",
    "district_schools = df[df['School Type'] == 'District']\n",
    "\n",
    "# Calculate the overall passing rate for each type category\n",
    "charter_overall_pass_rate = (charter_schools['% Passing Math'] + charter_schools['% Passing Reading']) / 2\n",
    "district_overall_pass_rate = (district_schools['% Passing Math'] + district_schools['% Passing Reading']) / 2\n",
    "\n",
    "print(\"Overall Passing Rate for Charter Schools:\", charter_overall_pass_rate.mean())\n",
    "print(\"Overall Passing Rate for District Schools:\", charter_overall_pass_rate.mean())"
   ]
  },
  {
   "cell_type": "markdown",
   "metadata": {},
   "source": [
    "Find counts of the passing 70 or higher score for the both test\n"
   ]
  },
  {
   "cell_type": "code",
   "execution_count": 115,
   "metadata": {},
   "outputs": [
    {
     "name": "stdout",
     "output_type": "stream",
     "text": [
      "Count of Math Scores >= 70: 15\n"
     ]
    }
   ],
   "source": [
    "# math pass size\n",
    "\n",
    "# Filter the DataFrame to get math scores greater than or equal to 70\n",
    "math_passing_count = df[df['Average Math Score'] >= 70]['School Name'].count()\n",
    "\n",
    "print(\"Count of Math Scores >= 70:\", math_passing_count)"
   ]
  },
  {
   "cell_type": "code",
   "execution_count": 116,
   "metadata": {},
   "outputs": [
    {
     "name": "stdout",
     "output_type": "stream",
     "text": [
      "Count of Reading Scores >= 70: 15\n"
     ]
    }
   ],
   "source": [
    "# reading pass size\n",
    "\n",
    "# Filter the DataFrame to get reading scores greater than or equal to 70\n",
    "reading_passing_count = df[df['Average Reading Score'] >= 70]['School Name'].count()\n",
    "\n",
    "print(\"Count of Reading Scores >= 70:\", reading_passing_count)"
   ]
  },
  {
   "cell_type": "code",
   "execution_count": 118,
   "metadata": {},
   "outputs": [
    {
     "name": "stdout",
     "output_type": "stream",
     "text": [
      "              School Name  Overall Passing Rate\n",
      "0      Bailey High School                  75.0\n",
      "1     Cabrera High School                  90.0\n",
      "2    Figueroa High School                  70.0\n",
      "3        Ford High School                  77.5\n",
      "4     Griffin High School                  92.5\n",
      "5   Hernandez High School                  72.5\n",
      "6      Holden High School                  93.5\n",
      "7       Huang High School                  70.0\n",
      "8     Johnson High School                  72.5\n",
      "9        Pena High School                  94.0\n",
      "10  Rodriguez High School                  73.0\n",
      "11    Shelton High School                  89.0\n",
      "12     Thomas High School                  93.0\n",
      "13     Wilson High School                  93.5\n",
      "14     Wright High School                  89.5\n"
     ]
    }
   ],
   "source": [
    "# Calculate the overall passing rate\n",
    "df['Overall Passing Rate'] = (df['% Passing Math'] + df['% Passing Reading']) / 2\n",
    "\n",
    "# Display the DataFrame with the overall passing rate column\n",
    "print(df[['School Name', 'Overall Passing Rate']])\n"
   ]
  },
  {
   "cell_type": "code",
   "execution_count": null,
   "metadata": {},
   "outputs": [],
   "source": []
  }
 ],
 "metadata": {
  "anaconda-cloud": {},
  "kernel_info": {
   "name": "python3"
  },
  "kernelspec": {
   "display_name": "Python 3 (ipykernel)",
   "language": "python",
   "name": "python3"
  },
  "language_info": {
   "codemirror_mode": {
    "name": "ipython",
    "version": 3
   },
   "file_extension": ".py",
   "mimetype": "text/x-python",
   "name": "python",
   "nbconvert_exporter": "python",
   "pygments_lexer": "ipython3",
   "version": "3.11.4"
  },
  "latex_envs": {
   "LaTeX_envs_menu_present": true,
   "autoclose": false,
   "autocomplete": true,
   "bibliofile": "biblio.bib",
   "cite_by": "apalike",
   "current_citInitial": 1,
   "eqLabelWithNumbers": true,
   "eqNumInitial": 1,
   "hotkeys": {
    "equation": "Ctrl-E",
    "itemize": "Ctrl-I"
   },
   "labels_anchors": false,
   "latex_user_defs": false,
   "report_style_numbering": false,
   "user_envs_cfg": false
  },
  "nteract": {
   "version": "0.8.4"
  },
  "toc": {
   "base_numbering": 1,
   "nav_menu": {},
   "number_sections": true,
   "sideBar": true,
   "skip_h1_title": false,
   "title_cell": "Table of Contents",
   "title_sidebar": "Contents",
   "toc_cell": false,
   "toc_position": {},
   "toc_section_display": true,
   "toc_window_display": false
  }
 },
 "nbformat": 4,
 "nbformat_minor": 1
}
